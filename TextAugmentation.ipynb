{
 "cells": [
  {
   "cell_type": "code",
   "execution_count": 12,
   "outputs": [],
   "source": [
    "import imageio.v3 as iio\n",
    "import imgaug.augmenters as iaa\n",
    "import os\n",
    "import random"
   ],
   "metadata": {
    "collapsed": false,
    "pycharm": {
     "name": "#%%\n"
    }
   }
  },
  {
   "cell_type": "code",
   "execution_count": null,
   "outputs": [],
   "source": [],
   "metadata": {
    "collapsed": false,
    "pycharm": {
     "name": "#%%\n"
    }
   }
  },
  {
   "cell_type": "code",
   "execution_count": 10,
   "outputs": [
    {
     "name": "stdout",
     "output_type": "stream",
     "text": [
      "corgi1.png - (1309, 1280, 3)\n",
      "corgi3.png - (1080, 1080, 3)\n",
      "corgi2.png - (901, 901, 3)\n",
      "corgi4.png - (3811, 2986, 3)\n"
     ]
    }
   ],
   "source": [
    "for file in os.listdir(\".\"):\n",
    "    if file.endswith(\".png\"):\n",
    "        image = iio.imread(file)\n",
    "        print(\"{} - {}\".format(file, image.shape))"
   ],
   "metadata": {
    "collapsed": false,
    "pycharm": {
     "name": "#%%\n"
    }
   }
  },
  {
   "cell_type": "code",
   "execution_count": 11,
   "outputs": [],
   "source": [
    "def hFlip(image):\n",
    "    aug = iaa.Fliplr(1.0)\n",
    "    return aug.augment_image(image)\n",
    "\n",
    "def vflip(image):\n",
    "    aug = iaa.Flipud(1.0)\n",
    "    return aug.augment_image(image)\n",
    "\n",
    "def channel_shuffle(image):\n",
    "    aug = iaa.ChannelShuffle(0.5)\n",
    "    return aug.augment_image(image)\n",
    "\n",
    "def rotate_img(image):\n",
    "    aug = iaa.Affine(rotate=(-45, 45))\n",
    "    return aug.augment_image(image)\n",
    "\n",
    "def add_noise(image):\n",
    "    aug = iaa.AdditiveGaussianNoise(10,40)\n",
    "    return aug.augment_image(image)\n",
    "\n",
    "def elastic_transform(image):\n",
    "    aug = iaa.ElasticTransformation(alpha=60.0, sigma=4.0)\n",
    "    return aug.augment_image(image)\n"
   ],
   "metadata": {
    "collapsed": false,
    "pycharm": {
     "name": "#%%\n"
    }
   }
  },
  {
   "cell_type": "code",
   "execution_count": null,
   "outputs": [],
   "source": [
    "process_functions = [hFlip, vflip, channel_shuffle, rotate_img, add_noise, elastic_transform]\n",
    "\n",
    "for file in os.listdir(\".\"):\n",
    "    if file.endswith(\".png\"):\n",
    "        image = iio.imread(file)\n",
    "        # apply two random transformations\n",
    "        for i in range(2):\n",
    "            image = random.choice(process_functions)(image)\n",
    "        new_file = \"aug_{}\".format(file)\n",
    "        iio.imwrite(new_file, image)"
   ],
   "metadata": {
    "collapsed": false,
    "pycharm": {
     "name": "#%%\n"
    }
   }
  }
 ],
 "metadata": {
  "kernelspec": {
   "display_name": "Python 3",
   "language": "python",
   "name": "python3"
  },
  "language_info": {
   "codemirror_mode": {
    "name": "ipython",
    "version": 2
   },
   "file_extension": ".py",
   "mimetype": "text/x-python",
   "name": "python",
   "nbconvert_exporter": "python",
   "pygments_lexer": "ipython2",
   "version": "2.7.6"
  }
 },
 "nbformat": 4,
 "nbformat_minor": 0
}